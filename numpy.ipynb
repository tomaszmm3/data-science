{
  "nbformat": 4,
  "nbformat_minor": 0,
  "metadata": {
    "colab": {
      "provenance": [],
      "authorship_tag": "ABX9TyNS0y44swu4Hw7Ub6m6Nxtg",
      "include_colab_link": true
    },
    "kernelspec": {
      "name": "python3",
      "display_name": "Python 3"
    },
    "language_info": {
      "name": "python"
    }
  },
  "cells": [
    {
      "cell_type": "markdown",
      "metadata": {
        "id": "view-in-github",
        "colab_type": "text"
      },
      "source": [
        "<a href=\"https://colab.research.google.com/github/tomaszmm3/data-science/blob/main/numpy.ipynb\" target=\"_parent\"><img src=\"https://colab.research.google.com/assets/colab-badge.svg\" alt=\"Open In Colab\"/></a>"
      ]
    },
    {
      "cell_type": "code",
      "execution_count": 3,
      "metadata": {
        "colab": {
          "base_uri": "https://localhost:8080/",
          "height": 36
        },
        "id": "WqdDgpBIOxJ-",
        "outputId": "ae07c380-749f-4413-8ae3-c15280694985"
      },
      "outputs": [
        {
          "output_type": "execute_result",
          "data": {
            "text/plain": [
              "'2.0.2'"
            ],
            "application/vnd.google.colaboratory.intrinsic+json": {
              "type": "string"
            }
          },
          "metadata": {},
          "execution_count": 3
        }
      ],
      "source": [
        "import numpy as np\n",
        "np.__version__"
      ]
    },
    {
      "cell_type": "code",
      "source": [
        "f = np.arange(10, 13)\n",
        "x = np.arange(start=1, stop=5, step=0.13)\n",
        "x.shape\n",
        "y = np.linspace(start=1, stop=5, num=123)\n",
        "y.shape\n",
        "a = np.arange(15)\n",
        "a.reshape(3,5)\n",
        "a.reshape(3,-1)"
      ],
      "metadata": {
        "colab": {
          "base_uri": "https://localhost:8080/"
        },
        "id": "BNchztFIO4Rd",
        "outputId": "2ad727a9-b2cf-4738-eb1e-28b4945a0c26"
      },
      "execution_count": 41,
      "outputs": [
        {
          "output_type": "execute_result",
          "data": {
            "text/plain": [
              "array([[ 0,  1,  2,  3,  4],\n",
              "       [ 5,  6,  7,  8,  9],\n",
              "       [10, 11, 12, 13, 14]])"
            ]
          },
          "metadata": {},
          "execution_count": 41
        }
      ]
    },
    {
      "cell_type": "code",
      "source": [
        "A = np.array([3, 1, 4, 2])\n",
        "B = np.array([3, -1, 3, 2])\n",
        "A/B"
      ],
      "metadata": {
        "colab": {
          "base_uri": "https://localhost:8080/"
        },
        "id": "qAsJELPUTuY1",
        "outputId": "309a6286-cd1f-46d7-f455-7bed85d9c613"
      },
      "execution_count": 46,
      "outputs": [
        {
          "output_type": "execute_result",
          "data": {
            "text/plain": [
              "array([ 1.        , -1.        ,  1.33333333,  1.        ])"
            ]
          },
          "metadata": {},
          "execution_count": 46
        }
      ]
    },
    {
      "cell_type": "code",
      "source": [
        "A + 3\n",
        "A*2\n",
        "abs(B)\n",
        "np.add(A, B)\n",
        "np.subtract(A, B)\n",
        "np.multiply(A,B)\n",
        "np.divide(A, B)\n",
        "X = np.array([[1, 3], [-2, 0]])\n",
        "Y = np.array([[6, 0], [-1, 2]])\n",
        "X*Y\n",
        "np.dot(X, Y)\n",
        "X.dot(Y)\n",
        "X @ Y"
      ],
      "metadata": {
        "colab": {
          "base_uri": "https://localhost:8080/"
        },
        "id": "YJ6cn1j3idAO",
        "outputId": "aede09d7-e845-442a-d34a-87232bb4bad8"
      },
      "execution_count": 62,
      "outputs": [
        {
          "output_type": "execute_result",
          "data": {
            "text/plain": [
              "array([[  3,   6],\n",
              "       [-12,   0]])"
            ]
          },
          "metadata": {},
          "execution_count": 62
        }
      ]
    },
    {
      "cell_type": "code",
      "source": [
        "np.random.randn(10, 2) #rozkład normalny, -1 do 1\n",
        "np.random.rand(10, 2) #random od 0 do 1\n",
        "np.random.randint(10, size=(10, 2)) #rand całkowity\n",
        "np.random.choice([1, 2, 3, 4, 5, 6])\n",
        "data = np.arange(10)\n",
        "np.random.shuffle(data)\n",
        "data\n",
        "np.exp(4)\n",
        "np.all([True, True, False])\n",
        "np.any([True, True, False])\n",
        "A = np.random.rand(5)\n",
        "np.argmax(A)\n",
        "np.argmin(A)\n",
        "np.argsort(A)\n",
        "np.max(A)\n",
        "np.min(A)\n",
        "A.max()\n",
        "A.std()"
      ],
      "metadata": {
        "colab": {
          "base_uri": "https://localhost:8080/"
        },
        "id": "GbFVnR6Vinja",
        "outputId": "88aae2f7-79c0-4201-fc53-39791a0f43a4"
      },
      "execution_count": 37,
      "outputs": [
        {
          "output_type": "execute_result",
          "data": {
            "text/plain": [
              "np.float64(0.2861738486658834)"
            ]
          },
          "metadata": {},
          "execution_count": 37
        }
      ]
    },
    {
      "cell_type": "code",
      "source": [
        "A = np.arange(20)\n",
        "A = A.reshape(4, -1)\n",
        "A[1, 2:]"
      ],
      "metadata": {
        "colab": {
          "base_uri": "https://localhost:8080/"
        },
        "id": "S2dqOZMjjjHi",
        "outputId": "b5ea4632-3f4a-415b-bda4-8fe0a86703e5"
      },
      "execution_count": 50,
      "outputs": [
        {
          "output_type": "execute_result",
          "data": {
            "text/plain": [
              "array([7, 8, 9])"
            ]
          },
          "metadata": {},
          "execution_count": 50
        }
      ]
    },
    {
      "cell_type": "code",
      "source": [
        "for item in A.flat:\n",
        "  item\n",
        "A.ravel()\n",
        "A.T\n",
        "A = np.arange(start=-10, stop=10, step=0.5)\n",
        "A = A.reshape(10, -1)\n",
        "A>0\n",
        "A[A>0]\n",
        "A[np.bitwise_and(A<5, A>-5)]"
      ],
      "metadata": {
        "colab": {
          "base_uri": "https://localhost:8080/"
        },
        "id": "g2Fyd9fjpWBh",
        "outputId": "2b897fe5-2623-4555-df2a-656eafd3e52e"
      },
      "execution_count": 66,
      "outputs": [
        {
          "output_type": "execute_result",
          "data": {
            "text/plain": [
              "array([-4.5, -4. , -3.5, -3. , -2.5, -2. , -1.5, -1. , -0.5,  0. ,  0.5,\n",
              "        1. ,  1.5,  2. ,  2.5,  3. ,  3.5,  4. ,  4.5])"
            ]
          },
          "metadata": {},
          "execution_count": 66
        }
      ]
    },
    {
      "cell_type": "code",
      "source": [
        "v1 = np.array([0, 4])\n",
        "np.linalg.norm(v1)\n",
        "v2 = np.array([-10, 10, 13])\n",
        "np.linalg.norm(v2)\n",
        "p = np.array([3, 0])\n",
        "q = np.array([0, 4])\n",
        "np.linalg.norm(p-q)\n",
        "q = np.arange(5, 14)\n",
        "q = q.reshape(3, 3)\n",
        "np.linalg.det(q)\n",
        "np.linalg.trace(A)\n",
        "np.eye(4) #macierz jednostkowa\n",
        "\n",
        "q = np.array([[0.3, -0.4], [0.1, 0.2]])\n",
        "p = np.linalg.inv(q)\n",
        "np.dot(q, p)\n",
        "np.transpose(q)\n",
        "q.T"
      ],
      "metadata": {
        "colab": {
          "base_uri": "https://localhost:8080/"
        },
        "id": "fdQqw90OqBzt",
        "outputId": "e8a24ae8-a71d-4d90-8e8d-7bef30c0478d"
      },
      "execution_count": 110,
      "outputs": [
        {
          "output_type": "execute_result",
          "data": {
            "text/plain": [
              "array([[ 0.3,  0.1],\n",
              "       [-0.4,  0.2]])"
            ]
          },
          "metadata": {},
          "execution_count": 110
        }
      ]
    },
    {
      "cell_type": "code",
      "source": [
        "#2x+4y=10\n",
        "#x-y=-1\n",
        "A = np.array([[2, 4], [1, -1]])\n",
        "B = np.array([[10], [-1]])\n",
        "X = np.dot(np.linalg.inv(A), B)\n",
        "X"
      ],
      "metadata": {
        "colab": {
          "base_uri": "https://localhost:8080/"
        },
        "id": "Py_DTG7Dy0NM",
        "outputId": "103bcc83-2814-4f97-b833-6e2fe08cbaac"
      },
      "execution_count": 116,
      "outputs": [
        {
          "output_type": "execute_result",
          "data": {
            "text/plain": [
              "array([[1.],\n",
              "       [2.]])"
            ]
          },
          "metadata": {},
          "execution_count": 116
        }
      ]
    },
    {
      "cell_type": "code",
      "source": [],
      "metadata": {
        "id": "qi5LWa0g_WRS"
      },
      "execution_count": null,
      "outputs": []
    }
  ]
}